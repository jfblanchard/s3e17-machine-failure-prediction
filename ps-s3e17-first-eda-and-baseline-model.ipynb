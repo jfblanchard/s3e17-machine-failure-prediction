{
 "cells": [
  {
   "cell_type": "markdown",
   "id": "9c428cd4",
   "metadata": {
    "papermill": {
     "duration": 0.020318,
     "end_time": "2023-06-25T18:10:22.331084",
     "exception": false,
     "start_time": "2023-06-25T18:10:22.310766",
     "status": "completed"
    },
    "tags": []
   },
   "source": [
    "# PS-S3E17 Machine Failure Prediction\n",
    "\n",
    "This is a classification problem.\n",
    "\n",
    "* sum_bool feature doesnt help at all."
   ]
  },
  {
   "cell_type": "code",
   "execution_count": 1,
   "id": "7fa1f060",
   "metadata": {
    "_cell_guid": "b1076dfc-b9ad-4769-8c92-a6c4dae69d19",
    "_uuid": "8f2839f25d086af736a60e9eeb907d3b93b6e0e5",
    "execution": {
     "iopub.execute_input": "2023-06-25T18:10:22.371219Z",
     "iopub.status.busy": "2023-06-25T18:10:22.370486Z",
     "iopub.status.idle": "2023-06-25T18:10:23.929269Z",
     "shell.execute_reply": "2023-06-25T18:10:23.928195Z"
    },
    "papermill": {
     "duration": 1.582487,
     "end_time": "2023-06-25T18:10:23.932165",
     "exception": false,
     "start_time": "2023-06-25T18:10:22.349678",
     "status": "completed"
    },
    "tags": []
   },
   "outputs": [],
   "source": [
    "import os\n",
    "import numpy as np\n",
    "\n",
    "import pandas as pd\n",
    "import matplotlib.pyplot as plt\n",
    "import seaborn as sns\n",
    "sns.set_style('darkgrid')\n",
    "\n",
    "from tqdm.notebook import tqdm"
   ]
  },
  {
   "cell_type": "markdown",
   "id": "46ca896b",
   "metadata": {
    "papermill": {
     "duration": 0.017865,
     "end_time": "2023-06-25T18:10:23.968469",
     "exception": false,
     "start_time": "2023-06-25T18:10:23.950604",
     "status": "completed"
    },
    "tags": []
   },
   "source": [
    "## Load Files"
   ]
  },
  {
   "cell_type": "code",
   "execution_count": 2,
   "id": "9af80d3d",
   "metadata": {
    "execution": {
     "iopub.execute_input": "2023-06-25T18:10:24.007698Z",
     "iopub.status.busy": "2023-06-25T18:10:24.006363Z",
     "iopub.status.idle": "2023-06-25T18:10:24.608679Z",
     "shell.execute_reply": "2023-06-25T18:10:24.607586Z"
    },
    "papermill": {
     "duration": 0.624753,
     "end_time": "2023-06-25T18:10:24.611503",
     "exception": false,
     "start_time": "2023-06-25T18:10:23.986750",
     "status": "completed"
    },
    "tags": []
   },
   "outputs": [],
   "source": [
    "train = pd.read_csv('/kaggle/input/playground-series-s3e17/train.csv')\n",
    "test = pd.read_csv('/kaggle/input/playground-series-s3e17/test.csv')\n",
    "ss = pd.read_csv('/kaggle/input/playground-series-s3e17/sample_submission.csv')"
   ]
  },
  {
   "cell_type": "code",
   "execution_count": 3,
   "id": "fb5f8618",
   "metadata": {
    "execution": {
     "iopub.execute_input": "2023-06-25T18:10:24.651022Z",
     "iopub.status.busy": "2023-06-25T18:10:24.649863Z",
     "iopub.status.idle": "2023-06-25T18:10:24.655782Z",
     "shell.execute_reply": "2023-06-25T18:10:24.654972Z"
    },
    "papermill": {
     "duration": 0.028123,
     "end_time": "2023-06-25T18:10:24.658145",
     "exception": false,
     "start_time": "2023-06-25T18:10:24.630022",
     "status": "completed"
    },
    "tags": []
   },
   "outputs": [
    {
     "name": "stdout",
     "output_type": "stream",
     "text": [
      "Train shape: (136429, 14)\n",
      "Test shape: (90954, 13)\n",
      "SS shape: (90954, 2)\n"
     ]
    }
   ],
   "source": [
    "print(f'Train shape: {train.shape}')\n",
    "print(f'Test shape: {test.shape}')\n",
    "print(f'SS shape: {ss.shape}')"
   ]
  },
  {
   "cell_type": "code",
   "execution_count": 4,
   "id": "17ae7c61",
   "metadata": {
    "execution": {
     "iopub.execute_input": "2023-06-25T18:10:24.697689Z",
     "iopub.status.busy": "2023-06-25T18:10:24.696653Z",
     "iopub.status.idle": "2023-06-25T18:10:24.745809Z",
     "shell.execute_reply": "2023-06-25T18:10:24.744900Z"
    },
    "papermill": {
     "duration": 0.07127,
     "end_time": "2023-06-25T18:10:24.747913",
     "exception": false,
     "start_time": "2023-06-25T18:10:24.676643",
     "status": "completed"
    },
    "tags": []
   },
   "outputs": [
    {
     "data": {
      "text/html": [
       "<div>\n",
       "<style scoped>\n",
       "    .dataframe tbody tr th:only-of-type {\n",
       "        vertical-align: middle;\n",
       "    }\n",
       "\n",
       "    .dataframe tbody tr th {\n",
       "        vertical-align: top;\n",
       "    }\n",
       "\n",
       "    .dataframe thead th {\n",
       "        text-align: right;\n",
       "    }\n",
       "</style>\n",
       "<table border=\"1\" class=\"dataframe\">\n",
       "  <thead>\n",
       "    <tr style=\"text-align: right;\">\n",
       "      <th></th>\n",
       "      <th>id</th>\n",
       "      <th>Product ID</th>\n",
       "      <th>Type</th>\n",
       "      <th>Air temperature [K]</th>\n",
       "      <th>Process temperature [K]</th>\n",
       "      <th>Rotational speed [rpm]</th>\n",
       "      <th>Torque [Nm]</th>\n",
       "      <th>Tool wear [min]</th>\n",
       "      <th>Machine failure</th>\n",
       "      <th>TWF</th>\n",
       "      <th>HDF</th>\n",
       "      <th>PWF</th>\n",
       "      <th>OSF</th>\n",
       "      <th>RNF</th>\n",
       "    </tr>\n",
       "  </thead>\n",
       "  <tbody>\n",
       "    <tr>\n",
       "      <th>136424</th>\n",
       "      <td>136424</td>\n",
       "      <td>M22284</td>\n",
       "      <td>M</td>\n",
       "      <td>300.1</td>\n",
       "      <td>311.4</td>\n",
       "      <td>1530</td>\n",
       "      <td>37.5</td>\n",
       "      <td>210</td>\n",
       "      <td>0</td>\n",
       "      <td>0</td>\n",
       "      <td>0</td>\n",
       "      <td>0</td>\n",
       "      <td>0</td>\n",
       "      <td>0</td>\n",
       "    </tr>\n",
       "    <tr>\n",
       "      <th>136425</th>\n",
       "      <td>136425</td>\n",
       "      <td>H38017</td>\n",
       "      <td>H</td>\n",
       "      <td>297.5</td>\n",
       "      <td>308.5</td>\n",
       "      <td>1447</td>\n",
       "      <td>49.1</td>\n",
       "      <td>2</td>\n",
       "      <td>0</td>\n",
       "      <td>0</td>\n",
       "      <td>0</td>\n",
       "      <td>0</td>\n",
       "      <td>0</td>\n",
       "      <td>0</td>\n",
       "    </tr>\n",
       "    <tr>\n",
       "      <th>136426</th>\n",
       "      <td>136426</td>\n",
       "      <td>L54690</td>\n",
       "      <td>L</td>\n",
       "      <td>300.5</td>\n",
       "      <td>311.8</td>\n",
       "      <td>1524</td>\n",
       "      <td>38.5</td>\n",
       "      <td>214</td>\n",
       "      <td>0</td>\n",
       "      <td>0</td>\n",
       "      <td>0</td>\n",
       "      <td>0</td>\n",
       "      <td>0</td>\n",
       "      <td>0</td>\n",
       "    </tr>\n",
       "    <tr>\n",
       "      <th>136427</th>\n",
       "      <td>136427</td>\n",
       "      <td>L53876</td>\n",
       "      <td>L</td>\n",
       "      <td>301.7</td>\n",
       "      <td>310.9</td>\n",
       "      <td>1447</td>\n",
       "      <td>46.3</td>\n",
       "      <td>42</td>\n",
       "      <td>0</td>\n",
       "      <td>0</td>\n",
       "      <td>0</td>\n",
       "      <td>0</td>\n",
       "      <td>0</td>\n",
       "      <td>0</td>\n",
       "    </tr>\n",
       "    <tr>\n",
       "      <th>136428</th>\n",
       "      <td>136428</td>\n",
       "      <td>L47937</td>\n",
       "      <td>L</td>\n",
       "      <td>296.9</td>\n",
       "      <td>308.1</td>\n",
       "      <td>1557</td>\n",
       "      <td>39.3</td>\n",
       "      <td>229</td>\n",
       "      <td>0</td>\n",
       "      <td>0</td>\n",
       "      <td>0</td>\n",
       "      <td>0</td>\n",
       "      <td>0</td>\n",
       "      <td>0</td>\n",
       "    </tr>\n",
       "  </tbody>\n",
       "</table>\n",
       "</div>"
      ],
      "text/plain": [
       "            id Product ID Type  Air temperature [K]  Process temperature [K]  \\\n",
       "136424  136424     M22284    M                300.1                    311.4   \n",
       "136425  136425     H38017    H                297.5                    308.5   \n",
       "136426  136426     L54690    L                300.5                    311.8   \n",
       "136427  136427     L53876    L                301.7                    310.9   \n",
       "136428  136428     L47937    L                296.9                    308.1   \n",
       "\n",
       "        Rotational speed [rpm]  Torque [Nm]  Tool wear [min]  Machine failure  \\\n",
       "136424                    1530         37.5              210                0   \n",
       "136425                    1447         49.1                2                0   \n",
       "136426                    1524         38.5              214                0   \n",
       "136427                    1447         46.3               42                0   \n",
       "136428                    1557         39.3              229                0   \n",
       "\n",
       "        TWF  HDF  PWF  OSF  RNF  \n",
       "136424    0    0    0    0    0  \n",
       "136425    0    0    0    0    0  \n",
       "136426    0    0    0    0    0  \n",
       "136427    0    0    0    0    0  \n",
       "136428    0    0    0    0    0  "
      ]
     },
     "metadata": {},
     "output_type": "display_data"
    },
    {
     "data": {
      "text/html": [
       "<div>\n",
       "<style scoped>\n",
       "    .dataframe tbody tr th:only-of-type {\n",
       "        vertical-align: middle;\n",
       "    }\n",
       "\n",
       "    .dataframe tbody tr th {\n",
       "        vertical-align: top;\n",
       "    }\n",
       "\n",
       "    .dataframe thead th {\n",
       "        text-align: right;\n",
       "    }\n",
       "</style>\n",
       "<table border=\"1\" class=\"dataframe\">\n",
       "  <thead>\n",
       "    <tr style=\"text-align: right;\">\n",
       "      <th></th>\n",
       "      <th>id</th>\n",
       "      <th>Product ID</th>\n",
       "      <th>Type</th>\n",
       "      <th>Air temperature [K]</th>\n",
       "      <th>Process temperature [K]</th>\n",
       "      <th>Rotational speed [rpm]</th>\n",
       "      <th>Torque [Nm]</th>\n",
       "      <th>Tool wear [min]</th>\n",
       "      <th>TWF</th>\n",
       "      <th>HDF</th>\n",
       "      <th>PWF</th>\n",
       "      <th>OSF</th>\n",
       "      <th>RNF</th>\n",
       "    </tr>\n",
       "  </thead>\n",
       "  <tbody>\n",
       "    <tr>\n",
       "      <th>90949</th>\n",
       "      <td>227378</td>\n",
       "      <td>L51130</td>\n",
       "      <td>L</td>\n",
       "      <td>302.3</td>\n",
       "      <td>311.4</td>\n",
       "      <td>1484</td>\n",
       "      <td>40.4</td>\n",
       "      <td>15</td>\n",
       "      <td>0</td>\n",
       "      <td>0</td>\n",
       "      <td>0</td>\n",
       "      <td>0</td>\n",
       "      <td>0</td>\n",
       "    </tr>\n",
       "    <tr>\n",
       "      <th>90950</th>\n",
       "      <td>227379</td>\n",
       "      <td>L47783</td>\n",
       "      <td>L</td>\n",
       "      <td>297.9</td>\n",
       "      <td>309.8</td>\n",
       "      <td>1542</td>\n",
       "      <td>33.8</td>\n",
       "      <td>31</td>\n",
       "      <td>0</td>\n",
       "      <td>0</td>\n",
       "      <td>0</td>\n",
       "      <td>0</td>\n",
       "      <td>0</td>\n",
       "    </tr>\n",
       "    <tr>\n",
       "      <th>90951</th>\n",
       "      <td>227380</td>\n",
       "      <td>L48097</td>\n",
       "      <td>L</td>\n",
       "      <td>295.6</td>\n",
       "      <td>306.2</td>\n",
       "      <td>1501</td>\n",
       "      <td>41.4</td>\n",
       "      <td>187</td>\n",
       "      <td>0</td>\n",
       "      <td>0</td>\n",
       "      <td>0</td>\n",
       "      <td>0</td>\n",
       "      <td>0</td>\n",
       "    </tr>\n",
       "    <tr>\n",
       "      <th>90952</th>\n",
       "      <td>227381</td>\n",
       "      <td>L48969</td>\n",
       "      <td>L</td>\n",
       "      <td>298.1</td>\n",
       "      <td>307.8</td>\n",
       "      <td>1534</td>\n",
       "      <td>40.3</td>\n",
       "      <td>69</td>\n",
       "      <td>0</td>\n",
       "      <td>0</td>\n",
       "      <td>0</td>\n",
       "      <td>0</td>\n",
       "      <td>0</td>\n",
       "    </tr>\n",
       "    <tr>\n",
       "      <th>90953</th>\n",
       "      <td>227382</td>\n",
       "      <td>L52525</td>\n",
       "      <td>L</td>\n",
       "      <td>303.5</td>\n",
       "      <td>312.8</td>\n",
       "      <td>1534</td>\n",
       "      <td>36.1</td>\n",
       "      <td>92</td>\n",
       "      <td>0</td>\n",
       "      <td>0</td>\n",
       "      <td>0</td>\n",
       "      <td>0</td>\n",
       "      <td>0</td>\n",
       "    </tr>\n",
       "  </tbody>\n",
       "</table>\n",
       "</div>"
      ],
      "text/plain": [
       "           id Product ID Type  Air temperature [K]  Process temperature [K]  \\\n",
       "90949  227378     L51130    L                302.3                    311.4   \n",
       "90950  227379     L47783    L                297.9                    309.8   \n",
       "90951  227380     L48097    L                295.6                    306.2   \n",
       "90952  227381     L48969    L                298.1                    307.8   \n",
       "90953  227382     L52525    L                303.5                    312.8   \n",
       "\n",
       "       Rotational speed [rpm]  Torque [Nm]  Tool wear [min]  TWF  HDF  PWF  \\\n",
       "90949                    1484         40.4               15    0    0    0   \n",
       "90950                    1542         33.8               31    0    0    0   \n",
       "90951                    1501         41.4              187    0    0    0   \n",
       "90952                    1534         40.3               69    0    0    0   \n",
       "90953                    1534         36.1               92    0    0    0   \n",
       "\n",
       "       OSF  RNF  \n",
       "90949    0    0  \n",
       "90950    0    0  \n",
       "90951    0    0  \n",
       "90952    0    0  \n",
       "90953    0    0  "
      ]
     },
     "metadata": {},
     "output_type": "display_data"
    }
   ],
   "source": [
    "display(train.tail())\n",
    "display(test.tail())"
   ]
  },
  {
   "cell_type": "markdown",
   "id": "e31afe58",
   "metadata": {
    "papermill": {
     "duration": 0.018698,
     "end_time": "2023-06-25T18:10:24.785758",
     "exception": false,
     "start_time": "2023-06-25T18:10:24.767060",
     "status": "completed"
    },
    "tags": []
   },
   "source": [
    "### Rename, Drop Columns"
   ]
  },
  {
   "cell_type": "code",
   "execution_count": 5,
   "id": "e0c924a5",
   "metadata": {
    "execution": {
     "iopub.execute_input": "2023-06-25T18:10:24.827356Z",
     "iopub.status.busy": "2023-06-25T18:10:24.826633Z",
     "iopub.status.idle": "2023-06-25T18:10:24.932865Z",
     "shell.execute_reply": "2023-06-25T18:10:24.931760Z"
    },
    "papermill": {
     "duration": 0.13021,
     "end_time": "2023-06-25T18:10:24.935483",
     "exception": false,
     "start_time": "2023-06-25T18:10:24.805273",
     "status": "completed"
    },
    "tags": []
   },
   "outputs": [],
   "source": [
    "# rename columns\n",
    "def clean_col(name):\n",
    "    name = name.replace('[','')\n",
    "    name = name.replace(']','')\n",
    "    return (name.strip().lower().replace(' ','_'))\n",
    "\n",
    "train = train.rename(columns=clean_col)\n",
    "test = test.rename(columns=clean_col)\n",
    "\n",
    "train = train.drop('id',axis=1)\n",
    "test = test.drop('id',axis=1)\n",
    "\n",
    "train = train.drop_duplicates()\n",
    "\n",
    "#y = train.machine_failure\n",
    "\n",
    "#Getting a TypeError: string indices must be integers, even when indexing name[0,3] ????"
   ]
  },
  {
   "cell_type": "code",
   "execution_count": 6,
   "id": "d639d43c",
   "metadata": {
    "execution": {
     "iopub.execute_input": "2023-06-25T18:10:24.975140Z",
     "iopub.status.busy": "2023-06-25T18:10:24.974716Z",
     "iopub.status.idle": "2023-06-25T18:10:25.145853Z",
     "shell.execute_reply": "2023-06-25T18:10:25.144514Z"
    },
    "papermill": {
     "duration": 0.194187,
     "end_time": "2023-06-25T18:10:25.148643",
     "exception": false,
     "start_time": "2023-06-25T18:10:24.954456",
     "status": "completed"
    },
    "tags": []
   },
   "outputs": [
    {
     "name": "stdout",
     "output_type": "stream",
     "text": [
      "<class 'pandas.core.frame.DataFrame'>\n",
      "Int64Index: 135295 entries, 0 to 136428\n",
      "Data columns (total 13 columns):\n",
      " #   Column                 Non-Null Count   Dtype  \n",
      "---  ------                 --------------   -----  \n",
      " 0   product_id             135295 non-null  object \n",
      " 1   type                   135295 non-null  object \n",
      " 2   air_temperature_k      135295 non-null  float64\n",
      " 3   process_temperature_k  135295 non-null  float64\n",
      " 4   rotational_speed_rpm   135295 non-null  int64  \n",
      " 5   torque_nm              135295 non-null  float64\n",
      " 6   tool_wear_min          135295 non-null  int64  \n",
      " 7   machine_failure        135295 non-null  int64  \n",
      " 8   twf                    135295 non-null  int64  \n",
      " 9   hdf                    135295 non-null  int64  \n",
      " 10  pwf                    135295 non-null  int64  \n",
      " 11  osf                    135295 non-null  int64  \n",
      " 12  rnf                    135295 non-null  int64  \n",
      "dtypes: float64(3), int64(8), object(2)\n",
      "memory usage: 14.5+ MB\n",
      "None\n",
      "<class 'pandas.core.frame.DataFrame'>\n",
      "RangeIndex: 90954 entries, 0 to 90953\n",
      "Data columns (total 12 columns):\n",
      " #   Column                 Non-Null Count  Dtype  \n",
      "---  ------                 --------------  -----  \n",
      " 0   product_id             90954 non-null  object \n",
      " 1   type                   90954 non-null  object \n",
      " 2   air_temperature_k      90954 non-null  float64\n",
      " 3   process_temperature_k  90954 non-null  float64\n",
      " 4   rotational_speed_rpm   90954 non-null  int64  \n",
      " 5   torque_nm              90954 non-null  float64\n",
      " 6   tool_wear_min          90954 non-null  int64  \n",
      " 7   twf                    90954 non-null  int64  \n",
      " 8   hdf                    90954 non-null  int64  \n",
      " 9   pwf                    90954 non-null  int64  \n",
      " 10  osf                    90954 non-null  int64  \n",
      " 11  rnf                    90954 non-null  int64  \n",
      "dtypes: float64(3), int64(7), object(2)\n",
      "memory usage: 8.3+ MB\n",
      "None\n"
     ]
    }
   ],
   "source": [
    "print(train.info())\n",
    "print(test.info())"
   ]
  },
  {
   "cell_type": "code",
   "execution_count": 7,
   "id": "b51517ff",
   "metadata": {
    "execution": {
     "iopub.execute_input": "2023-06-25T18:10:25.191238Z",
     "iopub.status.busy": "2023-06-25T18:10:25.190219Z",
     "iopub.status.idle": "2023-06-25T18:10:25.282569Z",
     "shell.execute_reply": "2023-06-25T18:10:25.281193Z"
    },
    "papermill": {
     "duration": 0.11508,
     "end_time": "2023-06-25T18:10:25.285014",
     "exception": false,
     "start_time": "2023-06-25T18:10:25.169934",
     "status": "completed"
    },
    "tags": []
   },
   "outputs": [
    {
     "data": {
      "text/html": [
       "<div>\n",
       "<style scoped>\n",
       "    .dataframe tbody tr th:only-of-type {\n",
       "        vertical-align: middle;\n",
       "    }\n",
       "\n",
       "    .dataframe tbody tr th {\n",
       "        vertical-align: top;\n",
       "    }\n",
       "\n",
       "    .dataframe thead th {\n",
       "        text-align: right;\n",
       "    }\n",
       "</style>\n",
       "<table border=\"1\" class=\"dataframe\">\n",
       "  <thead>\n",
       "    <tr style=\"text-align: right;\">\n",
       "      <th></th>\n",
       "      <th>air_temperature_k</th>\n",
       "      <th>process_temperature_k</th>\n",
       "      <th>rotational_speed_rpm</th>\n",
       "      <th>torque_nm</th>\n",
       "      <th>tool_wear_min</th>\n",
       "      <th>machine_failure</th>\n",
       "      <th>twf</th>\n",
       "      <th>hdf</th>\n",
       "      <th>pwf</th>\n",
       "      <th>osf</th>\n",
       "      <th>rnf</th>\n",
       "    </tr>\n",
       "  </thead>\n",
       "  <tbody>\n",
       "    <tr>\n",
       "      <th>count</th>\n",
       "      <td>135295.000000</td>\n",
       "      <td>135295.000000</td>\n",
       "      <td>135295.000000</td>\n",
       "      <td>135295.000000</td>\n",
       "      <td>135295.000000</td>\n",
       "      <td>135295.000000</td>\n",
       "      <td>135295.000000</td>\n",
       "      <td>135295.000000</td>\n",
       "      <td>135295.000000</td>\n",
       "      <td>135295.000000</td>\n",
       "      <td>135295.000000</td>\n",
       "    </tr>\n",
       "    <tr>\n",
       "      <th>mean</th>\n",
       "      <td>299.863074</td>\n",
       "      <td>309.941071</td>\n",
       "      <td>1520.339318</td>\n",
       "      <td>40.341770</td>\n",
       "      <td>104.365224</td>\n",
       "      <td>0.015736</td>\n",
       "      <td>0.001537</td>\n",
       "      <td>0.005181</td>\n",
       "      <td>0.002365</td>\n",
       "      <td>0.003940</td>\n",
       "      <td>0.002262</td>\n",
       "    </tr>\n",
       "    <tr>\n",
       "      <th>std</th>\n",
       "      <td>1.862655</td>\n",
       "      <td>1.384941</td>\n",
       "      <td>138.643328</td>\n",
       "      <td>8.492636</td>\n",
       "      <td>63.945614</td>\n",
       "      <td>0.124453</td>\n",
       "      <td>0.039179</td>\n",
       "      <td>0.071795</td>\n",
       "      <td>0.048576</td>\n",
       "      <td>0.062642</td>\n",
       "      <td>0.047504</td>\n",
       "    </tr>\n",
       "    <tr>\n",
       "      <th>min</th>\n",
       "      <td>295.300000</td>\n",
       "      <td>305.800000</td>\n",
       "      <td>1181.000000</td>\n",
       "      <td>3.800000</td>\n",
       "      <td>0.000000</td>\n",
       "      <td>0.000000</td>\n",
       "      <td>0.000000</td>\n",
       "      <td>0.000000</td>\n",
       "      <td>0.000000</td>\n",
       "      <td>0.000000</td>\n",
       "      <td>0.000000</td>\n",
       "    </tr>\n",
       "    <tr>\n",
       "      <th>25%</th>\n",
       "      <td>298.300000</td>\n",
       "      <td>308.800000</td>\n",
       "      <td>1432.000000</td>\n",
       "      <td>34.600000</td>\n",
       "      <td>48.000000</td>\n",
       "      <td>0.000000</td>\n",
       "      <td>0.000000</td>\n",
       "      <td>0.000000</td>\n",
       "      <td>0.000000</td>\n",
       "      <td>0.000000</td>\n",
       "      <td>0.000000</td>\n",
       "    </tr>\n",
       "    <tr>\n",
       "      <th>50%</th>\n",
       "      <td>300.000000</td>\n",
       "      <td>310.000000</td>\n",
       "      <td>1493.000000</td>\n",
       "      <td>40.400000</td>\n",
       "      <td>106.000000</td>\n",
       "      <td>0.000000</td>\n",
       "      <td>0.000000</td>\n",
       "      <td>0.000000</td>\n",
       "      <td>0.000000</td>\n",
       "      <td>0.000000</td>\n",
       "      <td>0.000000</td>\n",
       "    </tr>\n",
       "    <tr>\n",
       "      <th>75%</th>\n",
       "      <td>301.200000</td>\n",
       "      <td>310.900000</td>\n",
       "      <td>1580.000000</td>\n",
       "      <td>46.100000</td>\n",
       "      <td>159.000000</td>\n",
       "      <td>0.000000</td>\n",
       "      <td>0.000000</td>\n",
       "      <td>0.000000</td>\n",
       "      <td>0.000000</td>\n",
       "      <td>0.000000</td>\n",
       "      <td>0.000000</td>\n",
       "    </tr>\n",
       "    <tr>\n",
       "      <th>max</th>\n",
       "      <td>304.400000</td>\n",
       "      <td>313.800000</td>\n",
       "      <td>2886.000000</td>\n",
       "      <td>76.600000</td>\n",
       "      <td>253.000000</td>\n",
       "      <td>1.000000</td>\n",
       "      <td>1.000000</td>\n",
       "      <td>1.000000</td>\n",
       "      <td>1.000000</td>\n",
       "      <td>1.000000</td>\n",
       "      <td>1.000000</td>\n",
       "    </tr>\n",
       "  </tbody>\n",
       "</table>\n",
       "</div>"
      ],
      "text/plain": [
       "       air_temperature_k  process_temperature_k  rotational_speed_rpm  \\\n",
       "count      135295.000000          135295.000000         135295.000000   \n",
       "mean          299.863074             309.941071           1520.339318   \n",
       "std             1.862655               1.384941            138.643328   \n",
       "min           295.300000             305.800000           1181.000000   \n",
       "25%           298.300000             308.800000           1432.000000   \n",
       "50%           300.000000             310.000000           1493.000000   \n",
       "75%           301.200000             310.900000           1580.000000   \n",
       "max           304.400000             313.800000           2886.000000   \n",
       "\n",
       "           torque_nm  tool_wear_min  machine_failure            twf  \\\n",
       "count  135295.000000  135295.000000    135295.000000  135295.000000   \n",
       "mean       40.341770     104.365224         0.015736       0.001537   \n",
       "std         8.492636      63.945614         0.124453       0.039179   \n",
       "min         3.800000       0.000000         0.000000       0.000000   \n",
       "25%        34.600000      48.000000         0.000000       0.000000   \n",
       "50%        40.400000     106.000000         0.000000       0.000000   \n",
       "75%        46.100000     159.000000         0.000000       0.000000   \n",
       "max        76.600000     253.000000         1.000000       1.000000   \n",
       "\n",
       "                 hdf            pwf            osf            rnf  \n",
       "count  135295.000000  135295.000000  135295.000000  135295.000000  \n",
       "mean        0.005181       0.002365       0.003940       0.002262  \n",
       "std         0.071795       0.048576       0.062642       0.047504  \n",
       "min         0.000000       0.000000       0.000000       0.000000  \n",
       "25%         0.000000       0.000000       0.000000       0.000000  \n",
       "50%         0.000000       0.000000       0.000000       0.000000  \n",
       "75%         0.000000       0.000000       0.000000       0.000000  \n",
       "max         1.000000       1.000000       1.000000       1.000000  "
      ]
     },
     "execution_count": 7,
     "metadata": {},
     "output_type": "execute_result"
    }
   ],
   "source": [
    "train.describe()"
   ]
  },
  {
   "cell_type": "code",
   "execution_count": 8,
   "id": "ed0f683c",
   "metadata": {
    "execution": {
     "iopub.execute_input": "2023-06-25T18:10:25.326758Z",
     "iopub.status.busy": "2023-06-25T18:10:25.325479Z",
     "iopub.status.idle": "2023-06-25T18:10:25.372408Z",
     "shell.execute_reply": "2023-06-25T18:10:25.371351Z"
    },
    "papermill": {
     "duration": 0.070355,
     "end_time": "2023-06-25T18:10:25.375212",
     "exception": false,
     "start_time": "2023-06-25T18:10:25.304857",
     "status": "completed"
    },
    "tags": []
   },
   "outputs": [
    {
     "data": {
      "text/plain": [
       "product_id               9976\n",
       "type                        3\n",
       "air_temperature_k          95\n",
       "process_temperature_k      81\n",
       "rotational_speed_rpm      952\n",
       "torque_nm                 611\n",
       "tool_wear_min             246\n",
       "machine_failure             2\n",
       "twf                         2\n",
       "hdf                         2\n",
       "pwf                         2\n",
       "osf                         2\n",
       "rnf                         2\n",
       "dtype: int64"
      ]
     },
     "execution_count": 8,
     "metadata": {},
     "output_type": "execute_result"
    }
   ],
   "source": [
    "train.nunique()"
   ]
  },
  {
   "cell_type": "markdown",
   "id": "e324a608",
   "metadata": {
    "papermill": {
     "duration": 0.019304,
     "end_time": "2023-06-25T18:10:25.414288",
     "exception": false,
     "start_time": "2023-06-25T18:10:25.394984",
     "status": "completed"
    },
    "tags": []
   },
   "source": [
    "## EDA of Distributions\n",
    "\n",
    "* Floats first"
   ]
  },
  {
   "cell_type": "code",
   "execution_count": 9,
   "id": "f560a64e",
   "metadata": {
    "execution": {
     "iopub.execute_input": "2023-06-25T18:10:25.456022Z",
     "iopub.status.busy": "2023-06-25T18:10:25.455251Z",
     "iopub.status.idle": "2023-06-25T18:10:32.630094Z",
     "shell.execute_reply": "2023-06-25T18:10:32.628616Z"
    },
    "papermill": {
     "duration": 7.198697,
     "end_time": "2023-06-25T18:10:32.632660",
     "exception": false,
     "start_time": "2023-06-25T18:10:25.433963",
     "status": "completed"
    },
    "tags": []
   },
   "outputs": [
    {
     "data": {
      "image/png": "[encoded data removed]",
      "text/plain": [
       "<Figure size 1600x500 with 3 Axes>"
      ]
     },
     "metadata": {},
     "output_type": "display_data"
    }
   ],
   "source": [
    "features = [col for col in train.columns if train[col].dtype=='float']\n",
    "rows = int(np.ceil(len(features)/3)) \n",
    "plt.figure(figsize=(16,5*rows),tight_layout=True) \n",
    "for i,col in enumerate(features): \n",
    "  plt.subplot(rows,3,i+1) \n",
    "  sns.histplot(train[col],kde=True) \n",
    "  sns.histplot(test[col], kde=True)\n",
    "  plt.title(col)"
   ]
  },
  {
   "cell_type": "code",
   "execution_count": 10,
   "id": "0127a863",
   "metadata": {
    "execution": {
     "iopub.execute_input": "2023-06-25T18:10:32.677868Z",
     "iopub.status.busy": "2023-06-25T18:10:32.677423Z",
     "iopub.status.idle": "2023-06-25T18:10:32.710410Z",
     "shell.execute_reply": "2023-06-25T18:10:32.709269Z"
    },
    "papermill": {
     "duration": 0.058349,
     "end_time": "2023-06-25T18:10:32.712753",
     "exception": false,
     "start_time": "2023-06-25T18:10:32.654404",
     "status": "completed"
    },
    "tags": []
   },
   "outputs": [
    {
     "data": {
      "text/plain": [
       "['twf', 'hdf', 'pwf', 'osf', 'rnf']"
      ]
     },
     "execution_count": 10,
     "metadata": {},
     "output_type": "execute_result"
    }
   ],
   "source": [
    "bool_cols = [col for col in test.columns if test[col].nunique() == 2]\n",
    "bool_cols"
   ]
  },
  {
   "cell_type": "code",
   "execution_count": 11,
   "id": "3d34b493",
   "metadata": {
    "execution": {
     "iopub.execute_input": "2023-06-25T18:10:32.759532Z",
     "iopub.status.busy": "2023-06-25T18:10:32.759057Z",
     "iopub.status.idle": "2023-06-25T18:10:32.764333Z",
     "shell.execute_reply": "2023-06-25T18:10:32.763196Z"
    },
    "papermill": {
     "duration": 0.031677,
     "end_time": "2023-06-25T18:10:32.766903",
     "exception": false,
     "start_time": "2023-06-25T18:10:32.735226",
     "status": "completed"
    },
    "tags": []
   },
   "outputs": [],
   "source": [
    "# %%time\n",
    "# cat_features = [col for col in bool_cols]\n",
    "# rows = int(np.ceil(len(cat_features)/3)) \n",
    "# plt.figure(figsize=(16,5*rows),tight_layout=True) \n",
    "# for i,col in tqdm(enumerate(cat_features)): \n",
    "#   plt.subplot(rows,3,i+1) \n",
    "#   sns.histplot(train[col]) \n",
    "#   sns.histplot(test[col])\n",
    "#   plt.title(col)"
   ]
  },
  {
   "cell_type": "code",
   "execution_count": 12,
   "id": "522c7dd5",
   "metadata": {
    "execution": {
     "iopub.execute_input": "2023-06-25T18:10:32.813079Z",
     "iopub.status.busy": "2023-06-25T18:10:32.812663Z",
     "iopub.status.idle": "2023-06-25T18:10:32.829816Z",
     "shell.execute_reply": "2023-06-25T18:10:32.828677Z"
    },
    "papermill": {
     "duration": 0.043622,
     "end_time": "2023-06-25T18:10:32.832449",
     "exception": false,
     "start_time": "2023-06-25T18:10:32.788827",
     "status": "completed"
    },
    "tags": []
   },
   "outputs": [
    {
     "name": "stdout",
     "output_type": "stream",
     "text": [
      "twf:\n",
      "0    135087\n",
      "1       208\n",
      "Name: twf, dtype: int64\n",
      "hdf:\n",
      "0    134594\n",
      "1       701\n",
      "Name: hdf, dtype: int64\n",
      "pwf:\n",
      "0    134975\n",
      "1       320\n",
      "Name: pwf, dtype: int64\n",
      "osf:\n",
      "0    134762\n",
      "1       533\n",
      "Name: osf, dtype: int64\n",
      "rnf:\n",
      "0    134989\n",
      "1       306\n",
      "Name: rnf, dtype: int64\n"
     ]
    }
   ],
   "source": [
    "for col in bool_cols:\n",
    "    print(f'{col}:\\n{train[col].value_counts()}')\n",
    "    \n",
    "# should we upsample or downsample these columns?"
   ]
  },
  {
   "cell_type": "markdown",
   "id": "2911eaa3",
   "metadata": {
    "papermill": {
     "duration": 0.02204,
     "end_time": "2023-06-25T18:10:32.877110",
     "exception": false,
     "start_time": "2023-06-25T18:10:32.855070",
     "status": "completed"
    },
    "tags": []
   },
   "source": [
    "### Downsample\n",
    "* Try some different techniques.\n"
   ]
  },
  {
   "cell_type": "markdown",
   "id": "faad3ee2",
   "metadata": {
    "papermill": {
     "duration": 0.021423,
     "end_time": "2023-06-25T18:10:32.920306",
     "exception": false,
     "start_time": "2023-06-25T18:10:32.898883",
     "status": "completed"
    },
    "tags": []
   },
   "source": [
    "* very imbalanced, almost all false"
   ]
  },
  {
   "cell_type": "markdown",
   "id": "8f1eebaa",
   "metadata": {
    "papermill": {
     "duration": 0.021436,
     "end_time": "2023-06-25T18:10:32.963466",
     "exception": false,
     "start_time": "2023-06-25T18:10:32.942030",
     "status": "completed"
    },
    "tags": []
   },
   "source": [
    "## Target feature"
   ]
  },
  {
   "cell_type": "code",
   "execution_count": 13,
   "id": "30518f5f",
   "metadata": {
    "execution": {
     "iopub.execute_input": "2023-06-25T18:10:33.009315Z",
     "iopub.status.busy": "2023-06-25T18:10:33.008921Z",
     "iopub.status.idle": "2023-06-25T18:10:33.482329Z",
     "shell.execute_reply": "2023-06-25T18:10:33.481239Z"
    },
    "papermill": {
     "duration": 0.499288,
     "end_time": "2023-06-25T18:10:33.484661",
     "exception": false,
     "start_time": "2023-06-25T18:10:32.985373",
     "status": "completed"
    },
    "tags": []
   },
   "outputs": [
    {
     "data": {
      "text/plain": [
       "<Axes: ylabel='Frequency'>"
      ]
     },
     "execution_count": 13,
     "metadata": {},
     "output_type": "execute_result"
    },
    {
     "data": {
      "image/png": "[encoded data removed]",
      "text/plain": [
       "<Figure size 640x480 with 1 Axes>"
      ]
     },
     "metadata": {},
     "output_type": "display_data"
    }
   ],
   "source": [
    "train.machine_failure.plot(kind='hist')"
   ]
  },
  {
   "cell_type": "markdown",
   "id": "ae39b5a5",
   "metadata": {
    "papermill": {
     "duration": 0.021992,
     "end_time": "2023-06-25T18:10:33.528760",
     "exception": false,
     "start_time": "2023-06-25T18:10:33.506768",
     "status": "completed"
    },
    "tags": []
   },
   "source": [
    "### Takeaways\n",
    "* very imbalanced class, use stratified kfold"
   ]
  },
  {
   "cell_type": "markdown",
   "id": "0267f3aa",
   "metadata": {
    "papermill": {
     "duration": 0.021821,
     "end_time": "2023-06-25T18:10:33.572741",
     "exception": false,
     "start_time": "2023-06-25T18:10:33.550920",
     "status": "completed"
    },
    "tags": []
   },
   "source": [
    "## Feature Engineering"
   ]
  },
  {
   "cell_type": "code",
   "execution_count": 14,
   "id": "0806737f",
   "metadata": {
    "execution": {
     "iopub.execute_input": "2023-06-25T18:10:33.619716Z",
     "iopub.status.busy": "2023-06-25T18:10:33.618544Z",
     "iopub.status.idle": "2023-06-25T18:10:33.812903Z",
     "shell.execute_reply": "2023-06-25T18:10:33.811726Z"
    },
    "papermill": {
     "duration": 0.220717,
     "end_time": "2023-06-25T18:10:33.815674",
     "exception": false,
     "start_time": "2023-06-25T18:10:33.594957",
     "status": "completed"
    },
    "tags": []
   },
   "outputs": [],
   "source": [
    "train.type = train.type.apply(lambda x: 0 if x == 'L' else 1 if x == 'M' else 2)\n",
    "test.type = test.type.apply(lambda x: 0 if x == 'L' else 1 if x == 'M' else 2)"
   ]
  },
  {
   "cell_type": "code",
   "execution_count": 15,
   "id": "b26fb4e3",
   "metadata": {
    "execution": {
     "iopub.execute_input": "2023-06-25T18:10:33.867448Z",
     "iopub.status.busy": "2023-06-25T18:10:33.866160Z",
     "iopub.status.idle": "2023-06-25T18:10:33.896651Z",
     "shell.execute_reply": "2023-06-25T18:10:33.895558Z"
    },
    "papermill": {
     "duration": 0.060381,
     "end_time": "2023-06-25T18:10:33.899480",
     "exception": false,
     "start_time": "2023-06-25T18:10:33.839099",
     "status": "completed"
    },
    "tags": []
   },
   "outputs": [
    {
     "data": {
      "text/html": [
       "<div>\n",
       "<style scoped>\n",
       "    .dataframe tbody tr th:only-of-type {\n",
       "        vertical-align: middle;\n",
       "    }\n",
       "\n",
       "    .dataframe tbody tr th {\n",
       "        vertical-align: top;\n",
       "    }\n",
       "\n",
       "    .dataframe thead th {\n",
       "        text-align: right;\n",
       "    }\n",
       "</style>\n",
       "<table border=\"1\" class=\"dataframe\">\n",
       "  <thead>\n",
       "    <tr style=\"text-align: right;\">\n",
       "      <th></th>\n",
       "      <th>type</th>\n",
       "      <th>air_temperature_k</th>\n",
       "      <th>process_temperature_k</th>\n",
       "      <th>rotational_speed_rpm</th>\n",
       "      <th>torque_nm</th>\n",
       "      <th>tool_wear_min</th>\n",
       "      <th>machine_failure</th>\n",
       "      <th>twf</th>\n",
       "      <th>hdf</th>\n",
       "      <th>pwf</th>\n",
       "      <th>osf</th>\n",
       "      <th>rnf</th>\n",
       "    </tr>\n",
       "  </thead>\n",
       "  <tbody>\n",
       "    <tr>\n",
       "      <th>0</th>\n",
       "      <td>0</td>\n",
       "      <td>300.6</td>\n",
       "      <td>309.6</td>\n",
       "      <td>1596</td>\n",
       "      <td>36.1</td>\n",
       "      <td>140</td>\n",
       "      <td>0</td>\n",
       "      <td>0</td>\n",
       "      <td>0</td>\n",
       "      <td>0</td>\n",
       "      <td>0</td>\n",
       "      <td>0</td>\n",
       "    </tr>\n",
       "    <tr>\n",
       "      <th>1</th>\n",
       "      <td>1</td>\n",
       "      <td>302.6</td>\n",
       "      <td>312.1</td>\n",
       "      <td>1759</td>\n",
       "      <td>29.1</td>\n",
       "      <td>200</td>\n",
       "      <td>0</td>\n",
       "      <td>0</td>\n",
       "      <td>0</td>\n",
       "      <td>0</td>\n",
       "      <td>0</td>\n",
       "      <td>0</td>\n",
       "    </tr>\n",
       "    <tr>\n",
       "      <th>2</th>\n",
       "      <td>0</td>\n",
       "      <td>299.3</td>\n",
       "      <td>308.5</td>\n",
       "      <td>1805</td>\n",
       "      <td>26.5</td>\n",
       "      <td>25</td>\n",
       "      <td>0</td>\n",
       "      <td>0</td>\n",
       "      <td>0</td>\n",
       "      <td>0</td>\n",
       "      <td>0</td>\n",
       "      <td>0</td>\n",
       "    </tr>\n",
       "    <tr>\n",
       "      <th>3</th>\n",
       "      <td>0</td>\n",
       "      <td>301.0</td>\n",
       "      <td>310.9</td>\n",
       "      <td>1524</td>\n",
       "      <td>44.3</td>\n",
       "      <td>197</td>\n",
       "      <td>0</td>\n",
       "      <td>0</td>\n",
       "      <td>0</td>\n",
       "      <td>0</td>\n",
       "      <td>0</td>\n",
       "      <td>0</td>\n",
       "    </tr>\n",
       "    <tr>\n",
       "      <th>4</th>\n",
       "      <td>1</td>\n",
       "      <td>298.0</td>\n",
       "      <td>309.0</td>\n",
       "      <td>1641</td>\n",
       "      <td>35.4</td>\n",
       "      <td>34</td>\n",
       "      <td>0</td>\n",
       "      <td>0</td>\n",
       "      <td>0</td>\n",
       "      <td>0</td>\n",
       "      <td>0</td>\n",
       "      <td>0</td>\n",
       "    </tr>\n",
       "  </tbody>\n",
       "</table>\n",
       "</div>"
      ],
      "text/plain": [
       "   type  air_temperature_k  process_temperature_k  rotational_speed_rpm  \\\n",
       "0     0              300.6                  309.6                  1596   \n",
       "1     1              302.6                  312.1                  1759   \n",
       "2     0              299.3                  308.5                  1805   \n",
       "3     0              301.0                  310.9                  1524   \n",
       "4     1              298.0                  309.0                  1641   \n",
       "\n",
       "   torque_nm  tool_wear_min  machine_failure  twf  hdf  pwf  osf  rnf  \n",
       "0       36.1            140                0    0    0    0    0    0  \n",
       "1       29.1            200                0    0    0    0    0    0  \n",
       "2       26.5             25                0    0    0    0    0    0  \n",
       "3       44.3            197                0    0    0    0    0    0  \n",
       "4       35.4             34                0    0    0    0    0    0  "
      ]
     },
     "execution_count": 15,
     "metadata": {},
     "output_type": "execute_result"
    }
   ],
   "source": [
    "train = train.drop('product_id',axis=1)\n",
    "test = test.drop('product_id',axis=1)\n",
    "train.head()"
   ]
  },
  {
   "cell_type": "code",
   "execution_count": 16,
   "id": "c0557f03",
   "metadata": {
    "execution": {
     "iopub.execute_input": "2023-06-25T18:10:33.956020Z",
     "iopub.status.busy": "2023-06-25T18:10:33.955625Z",
     "iopub.status.idle": "2023-06-25T18:10:33.960459Z",
     "shell.execute_reply": "2023-06-25T18:10:33.959440Z"
    },
    "papermill": {
     "duration": 0.032217,
     "end_time": "2023-06-25T18:10:33.962780",
     "exception": false,
     "start_time": "2023-06-25T18:10:33.930563",
     "status": "completed"
    },
    "tags": []
   },
   "outputs": [],
   "source": [
    "# train['sum_bool'] = train['twf'] + train['hdf'] + train['pwf'] + train['osf'] + train['rnf']\n",
    "# test['sum_bool'] = test['twf'] + test['hdf'] + test['pwf'] + test['osf'] + test['rnf']"
   ]
  },
  {
   "cell_type": "markdown",
   "id": "5bfa4b6f",
   "metadata": {
    "papermill": {
     "duration": 0.023131,
     "end_time": "2023-06-25T18:10:34.008959",
     "exception": false,
     "start_time": "2023-06-25T18:10:33.985828",
     "status": "completed"
    },
    "tags": []
   },
   "source": [
    "### Sum of bool cols"
   ]
  },
  {
   "cell_type": "code",
   "execution_count": 17,
   "id": "d939a732",
   "metadata": {
    "execution": {
     "iopub.execute_input": "2023-06-25T18:10:34.060924Z",
     "iopub.status.busy": "2023-06-25T18:10:34.060420Z",
     "iopub.status.idle": "2023-06-25T18:10:34.067772Z",
     "shell.execute_reply": "2023-06-25T18:10:34.066723Z"
    },
    "papermill": {
     "duration": 0.034018,
     "end_time": "2023-06-25T18:10:34.070008",
     "exception": false,
     "start_time": "2023-06-25T18:10:34.035990",
     "status": "completed"
    },
    "tags": []
   },
   "outputs": [
    {
     "data": {
      "text/plain": [
       "(135295, 12)"
      ]
     },
     "execution_count": 17,
     "metadata": {},
     "output_type": "execute_result"
    }
   ],
   "source": [
    "train.shape"
   ]
  },
  {
   "cell_type": "code",
   "execution_count": 18,
   "id": "98d6218b",
   "metadata": {
    "execution": {
     "iopub.execute_input": "2023-06-25T18:10:34.122951Z",
     "iopub.status.busy": "2023-06-25T18:10:34.122360Z",
     "iopub.status.idle": "2023-06-25T18:10:34.132128Z",
     "shell.execute_reply": "2023-06-25T18:10:34.130442Z"
    },
    "papermill": {
     "duration": 0.040677,
     "end_time": "2023-06-25T18:10:34.134583",
     "exception": false,
     "start_time": "2023-06-25T18:10:34.093906",
     "status": "completed"
    },
    "tags": []
   },
   "outputs": [
    {
     "data": {
      "text/plain": [
       "Int64Index([     0,      1,      2,      3,      4,      5,      6,      7,\n",
       "                 8,      9,\n",
       "            ...\n",
       "            136419, 136420, 136421, 136422, 136423, 136424, 136425, 136426,\n",
       "            136427, 136428],\n",
       "           dtype='int64', length=135295)"
      ]
     },
     "execution_count": 18,
     "metadata": {},
     "output_type": "execute_result"
    }
   ],
   "source": [
    "train.index"
   ]
  },
  {
   "cell_type": "code",
   "execution_count": 19,
   "id": "ac8adb46",
   "metadata": {
    "execution": {
     "iopub.execute_input": "2023-06-25T18:10:34.185435Z",
     "iopub.status.busy": "2023-06-25T18:10:34.184534Z",
     "iopub.status.idle": "2023-06-25T18:10:34.206275Z",
     "shell.execute_reply": "2023-06-25T18:10:34.205265Z"
    },
    "papermill": {
     "duration": 0.048971,
     "end_time": "2023-06-25T18:10:34.208554",
     "exception": false,
     "start_time": "2023-06-25T18:10:34.159583",
     "status": "completed"
    },
    "tags": []
   },
   "outputs": [
    {
     "data": {
      "text/html": [
       "<div>\n",
       "<style scoped>\n",
       "    .dataframe tbody tr th:only-of-type {\n",
       "        vertical-align: middle;\n",
       "    }\n",
       "\n",
       "    .dataframe tbody tr th {\n",
       "        vertical-align: top;\n",
       "    }\n",
       "\n",
       "    .dataframe thead th {\n",
       "        text-align: right;\n",
       "    }\n",
       "</style>\n",
       "<table border=\"1\" class=\"dataframe\">\n",
       "  <thead>\n",
       "    <tr style=\"text-align: right;\">\n",
       "      <th></th>\n",
       "      <th>type</th>\n",
       "      <th>air_temperature_k</th>\n",
       "      <th>process_temperature_k</th>\n",
       "      <th>rotational_speed_rpm</th>\n",
       "      <th>torque_nm</th>\n",
       "      <th>tool_wear_min</th>\n",
       "      <th>machine_failure</th>\n",
       "      <th>twf</th>\n",
       "      <th>hdf</th>\n",
       "      <th>pwf</th>\n",
       "      <th>osf</th>\n",
       "      <th>rnf</th>\n",
       "    </tr>\n",
       "  </thead>\n",
       "  <tbody>\n",
       "    <tr>\n",
       "      <th>136424</th>\n",
       "      <td>1</td>\n",
       "      <td>300.1</td>\n",
       "      <td>311.4</td>\n",
       "      <td>1530</td>\n",
       "      <td>37.5</td>\n",
       "      <td>210</td>\n",
       "      <td>0</td>\n",
       "      <td>0</td>\n",
       "      <td>0</td>\n",
       "      <td>0</td>\n",
       "      <td>0</td>\n",
       "      <td>0</td>\n",
       "    </tr>\n",
       "    <tr>\n",
       "      <th>136425</th>\n",
       "      <td>2</td>\n",
       "      <td>297.5</td>\n",
       "      <td>308.5</td>\n",
       "      <td>1447</td>\n",
       "      <td>49.1</td>\n",
       "      <td>2</td>\n",
       "      <td>0</td>\n",
       "      <td>0</td>\n",
       "      <td>0</td>\n",
       "      <td>0</td>\n",
       "      <td>0</td>\n",
       "      <td>0</td>\n",
       "    </tr>\n",
       "    <tr>\n",
       "      <th>136426</th>\n",
       "      <td>0</td>\n",
       "      <td>300.5</td>\n",
       "      <td>311.8</td>\n",
       "      <td>1524</td>\n",
       "      <td>38.5</td>\n",
       "      <td>214</td>\n",
       "      <td>0</td>\n",
       "      <td>0</td>\n",
       "      <td>0</td>\n",
       "      <td>0</td>\n",
       "      <td>0</td>\n",
       "      <td>0</td>\n",
       "    </tr>\n",
       "    <tr>\n",
       "      <th>136427</th>\n",
       "      <td>0</td>\n",
       "      <td>301.7</td>\n",
       "      <td>310.9</td>\n",
       "      <td>1447</td>\n",
       "      <td>46.3</td>\n",
       "      <td>42</td>\n",
       "      <td>0</td>\n",
       "      <td>0</td>\n",
       "      <td>0</td>\n",
       "      <td>0</td>\n",
       "      <td>0</td>\n",
       "      <td>0</td>\n",
       "    </tr>\n",
       "    <tr>\n",
       "      <th>136428</th>\n",
       "      <td>0</td>\n",
       "      <td>296.9</td>\n",
       "      <td>308.1</td>\n",
       "      <td>1557</td>\n",
       "      <td>39.3</td>\n",
       "      <td>229</td>\n",
       "      <td>0</td>\n",
       "      <td>0</td>\n",
       "      <td>0</td>\n",
       "      <td>0</td>\n",
       "      <td>0</td>\n",
       "      <td>0</td>\n",
       "    </tr>\n",
       "  </tbody>\n",
       "</table>\n",
       "</div>"
      ],
      "text/plain": [
       "        type  air_temperature_k  process_temperature_k  rotational_speed_rpm  \\\n",
       "136424     1              300.1                  311.4                  1530   \n",
       "136425     2              297.5                  308.5                  1447   \n",
       "136426     0              300.5                  311.8                  1524   \n",
       "136427     0              301.7                  310.9                  1447   \n",
       "136428     0              296.9                  308.1                  1557   \n",
       "\n",
       "        torque_nm  tool_wear_min  machine_failure  twf  hdf  pwf  osf  rnf  \n",
       "136424       37.5            210                0    0    0    0    0    0  \n",
       "136425       49.1              2                0    0    0    0    0    0  \n",
       "136426       38.5            214                0    0    0    0    0    0  \n",
       "136427       46.3             42                0    0    0    0    0    0  \n",
       "136428       39.3            229                0    0    0    0    0    0  "
      ]
     },
     "execution_count": 19,
     "metadata": {},
     "output_type": "execute_result"
    }
   ],
   "source": [
    "train.tail()"
   ]
  },
  {
   "cell_type": "markdown",
   "id": "c6f9dafa",
   "metadata": {
    "papermill": {
     "duration": 0.023047,
     "end_time": "2023-06-25T18:10:34.255086",
     "exception": false,
     "start_time": "2023-06-25T18:10:34.232039",
     "status": "completed"
    },
    "tags": []
   },
   "source": [
    "## Scaling/Transforming"
   ]
  },
  {
   "cell_type": "code",
   "execution_count": 20,
   "id": "84555de0",
   "metadata": {
    "execution": {
     "iopub.execute_input": "2023-06-25T18:10:34.304481Z",
     "iopub.status.busy": "2023-06-25T18:10:34.303602Z",
     "iopub.status.idle": "2023-06-25T18:10:34.310416Z",
     "shell.execute_reply": "2023-06-25T18:10:34.309406Z"
    },
    "papermill": {
     "duration": 0.034502,
     "end_time": "2023-06-25T18:10:34.312955",
     "exception": false,
     "start_time": "2023-06-25T18:10:34.278453",
     "status": "completed"
    },
    "tags": []
   },
   "outputs": [],
   "source": [
    "float_features = [col for col in train.columns if train[col].dtype=='float']\n",
    "features = [col for col in test.columns]"
   ]
  },
  {
   "cell_type": "code",
   "execution_count": 21,
   "id": "e23b5124",
   "metadata": {
    "execution": {
     "iopub.execute_input": "2023-06-25T18:10:34.363110Z",
     "iopub.status.busy": "2023-06-25T18:10:34.362169Z",
     "iopub.status.idle": "2023-06-25T18:10:34.367585Z",
     "shell.execute_reply": "2023-06-25T18:10:34.366578Z"
    },
    "papermill": {
     "duration": 0.033184,
     "end_time": "2023-06-25T18:10:34.370088",
     "exception": false,
     "start_time": "2023-06-25T18:10:34.336904",
     "status": "completed"
    },
    "tags": []
   },
   "outputs": [],
   "source": [
    "# from sklearn.preprocessing import StandardScaler, MinMaxScaler, RobustScaler\n",
    "\n",
    "# std_scaler = StandardScaler()\n",
    "# mm_scaler = MinMaxScaler()\n",
    "# rob_scaler = RobustScaler()\n",
    "\n",
    "# # swap out which scaler you want here (some people scale inside of CV)\n",
    "# train[float_features] = pd.DataFrame(rob_scaler.fit_transform(train[float_features]), columns = float_features)\n",
    "# test[float_features] = pd.DataFrame(rob_scaler.transform(test[float_features]), columns = float_features)"
   ]
  },
  {
   "cell_type": "code",
   "execution_count": 22,
   "id": "7c40743a",
   "metadata": {
    "execution": {
     "iopub.execute_input": "2023-06-25T18:10:34.420333Z",
     "iopub.status.busy": "2023-06-25T18:10:34.419406Z",
     "iopub.status.idle": "2023-06-25T18:10:34.427128Z",
     "shell.execute_reply": "2023-06-25T18:10:34.426167Z"
    },
    "papermill": {
     "duration": 0.035251,
     "end_time": "2023-06-25T18:10:34.429328",
     "exception": false,
     "start_time": "2023-06-25T18:10:34.394077",
     "status": "completed"
    },
    "tags": []
   },
   "outputs": [
    {
     "data": {
      "text/plain": [
       "['air_temperature_k',\n",
       " 'process_temperature_k',\n",
       " 'rotational_speed_rpm',\n",
       " 'torque_nm',\n",
       " 'tool_wear_min']"
      ]
     },
     "execution_count": 22,
     "metadata": {},
     "output_type": "execute_result"
    }
   ],
   "source": [
    "sfeatures = ['air_temperature_k',\n",
    " 'process_temperature_k',\n",
    " 'rotational_speed_rpm',\n",
    " 'torque_nm',\n",
    " 'tool_wear_min']\n",
    "sfeatures"
   ]
  },
  {
   "cell_type": "code",
   "execution_count": 23,
   "id": "1ac962ad",
   "metadata": {
    "execution": {
     "iopub.execute_input": "2023-06-25T18:10:34.481345Z",
     "iopub.status.busy": "2023-06-25T18:10:34.480471Z",
     "iopub.status.idle": "2023-06-25T18:10:34.485302Z",
     "shell.execute_reply": "2023-06-25T18:10:34.484368Z"
    },
    "papermill": {
     "duration": 0.033615,
     "end_time": "2023-06-25T18:10:34.487480",
     "exception": false,
     "start_time": "2023-06-25T18:10:34.453865",
     "status": "completed"
    },
    "tags": []
   },
   "outputs": [],
   "source": [
    "# from sklearn.preprocessing import QuantileTransformer\n",
    "\n",
    "# qt = QuantileTransformer(output_distribution='normal')\n",
    "# train[sfeatures] = pd.DataFrame(qt.fit_transform(train[sfeatures]),columns=sfeatures)\n",
    "# test[sfeatures] = pd.DataFrame(qt.transform(test[sfeatures]),columns=sfeatures)\n"
   ]
  },
  {
   "cell_type": "code",
   "execution_count": 24,
   "id": "b8695ea5",
   "metadata": {
    "execution": {
     "iopub.execute_input": "2023-06-25T18:10:34.537408Z",
     "iopub.status.busy": "2023-06-25T18:10:34.536514Z",
     "iopub.status.idle": "2023-06-25T18:10:34.563397Z",
     "shell.execute_reply": "2023-06-25T18:10:34.562546Z"
    },
    "papermill": {
     "duration": 0.055445,
     "end_time": "2023-06-25T18:10:34.566612",
     "exception": false,
     "start_time": "2023-06-25T18:10:34.511167",
     "status": "completed"
    },
    "tags": []
   },
   "outputs": [],
   "source": [
    "train = train.dropna()\n",
    "y = train.machine_failure\n",
    "train = train.drop('machine_failure',axis=1)"
   ]
  },
  {
   "cell_type": "code",
   "execution_count": 25,
   "id": "8900967e",
   "metadata": {
    "execution": {
     "iopub.execute_input": "2023-06-25T18:10:34.620803Z",
     "iopub.status.busy": "2023-06-25T18:10:34.620051Z",
     "iopub.status.idle": "2023-06-25T18:10:34.627812Z",
     "shell.execute_reply": "2023-06-25T18:10:34.626760Z"
    },
    "papermill": {
     "duration": 0.035359,
     "end_time": "2023-06-25T18:10:34.629983",
     "exception": false,
     "start_time": "2023-06-25T18:10:34.594624",
     "status": "completed"
    },
    "tags": []
   },
   "outputs": [
    {
     "data": {
      "text/plain": [
       "63.548614372945046"
      ]
     },
     "execution_count": 25,
     "metadata": {},
     "output_type": "execute_result"
    }
   ],
   "source": [
    "weights_ratio = 1.0/y.mean()\n",
    "weights_ratio"
   ]
  },
  {
   "cell_type": "markdown",
   "id": "8de40a9b",
   "metadata": {
    "papermill": {
     "duration": 0.023505,
     "end_time": "2023-06-25T18:10:34.677269",
     "exception": false,
     "start_time": "2023-06-25T18:10:34.653764",
     "status": "completed"
    },
    "tags": []
   },
   "source": [
    "## Model"
   ]
  },
  {
   "cell_type": "code",
   "execution_count": 26,
   "id": "a17f4f94",
   "metadata": {
    "execution": {
     "iopub.execute_input": "2023-06-25T18:10:34.727291Z",
     "iopub.status.busy": "2023-06-25T18:10:34.726332Z",
     "iopub.status.idle": "2023-06-25T18:10:34.998828Z",
     "shell.execute_reply": "2023-06-25T18:10:34.997694Z"
    },
    "papermill": {
     "duration": 0.300808,
     "end_time": "2023-06-25T18:10:35.001682",
     "exception": false,
     "start_time": "2023-06-25T18:10:34.700874",
     "status": "completed"
    },
    "tags": []
   },
   "outputs": [],
   "source": [
    "from sklearn.metrics import roc_auc_score\n",
    "from sklearn.model_selection import StratifiedKFold\n",
    "\n",
    "seed = 12\n",
    "folds = 20"
   ]
  },
  {
   "cell_type": "code",
   "execution_count": 27,
   "id": "23c7017f",
   "metadata": {
    "execution": {
     "iopub.execute_input": "2023-06-25T18:10:35.050862Z",
     "iopub.status.busy": "2023-06-25T18:10:35.050449Z",
     "iopub.status.idle": "2023-06-25T18:10:35.094233Z",
     "shell.execute_reply": "2023-06-25T18:10:35.093064Z"
    },
    "papermill": {
     "duration": 0.071541,
     "end_time": "2023-06-25T18:10:35.096889",
     "exception": false,
     "start_time": "2023-06-25T18:10:35.025348",
     "status": "completed"
    },
    "tags": []
   },
   "outputs": [],
   "source": [
    "# split data for baseline - example\n",
    "from sklearn.model_selection import train_test_split\n",
    "x_train, x_valid, y_train, y_valid = train_test_split(train[features], y, train_size=0.8, test_size=0.2,\n",
    "                                                      random_state=12)\n",
    "x_test = test[features]"
   ]
  },
  {
   "cell_type": "code",
   "execution_count": 28,
   "id": "19b5a523",
   "metadata": {
    "execution": {
     "iopub.execute_input": "2023-06-25T18:10:35.145999Z",
     "iopub.status.busy": "2023-06-25T18:10:35.145623Z",
     "iopub.status.idle": "2023-06-25T18:10:35.157733Z",
     "shell.execute_reply": "2023-06-25T18:10:35.156605Z"
    },
    "papermill": {
     "duration": 0.039589,
     "end_time": "2023-06-25T18:10:35.160017",
     "exception": false,
     "start_time": "2023-06-25T18:10:35.120428",
     "status": "completed"
    },
    "tags": []
   },
   "outputs": [],
   "source": [
    "# if continuous, change predict_proba to predict\n",
    "def run_cv_and_predict(train, test, features, model, seed):\n",
    "    \n",
    "    # initialize arrays \n",
    "    fold_scores = []\n",
    "    oof = np.zeros(train.shape[0])\n",
    "    preds = np.zeros((test.shape[0],folds))\n",
    "\n",
    "    # setup folding strategy\n",
    "    skf = StratifiedKFold(n_splits=folds,random_state = seed,shuffle=True)\n",
    "    # Use KFold if target is continuous\n",
    "    #skf = KFold(n_splits=folds,random_state = seed,shuffle=True)\n",
    "\n",
    "    # start cross validation\n",
    "    cur_fold = 1\n",
    "    for trn_idx, val_idx in skf.split(train[features], y):\n",
    "\n",
    "        # split indicies into train and validation\n",
    "        x_train = train[features].iloc[trn_idx]\n",
    "        y_train = y.iloc[trn_idx]\n",
    "        x_valid = train[features].iloc[val_idx]\n",
    "        y_valid = y.iloc[val_idx]\n",
    "\n",
    "        # fit model\n",
    "        model.fit(x_train,y_train)\n",
    "\n",
    "        # predict on validation set\n",
    "        fold_preds = model.predict_proba(x_valid)[:,1]\n",
    "        fold_preds = fold_preds.reshape(len(fold_preds)) # sbabwtdt\n",
    "        oof[val_idx] = fold_preds\n",
    "\n",
    "        # Compute scores\n",
    "        fold_score = roc_auc_score(y_valid,fold_preds)  # CHOOSE METRIC HERE\n",
    "        fold_scores.append(fold_score)\n",
    "        #print(f'Log Loss Score, fold {cur_fold}: {fold_score}')\n",
    "\n",
    "        # predict on test set - store all fold preds (take mode later)\n",
    "        test_preds = model.predict_proba(test[features])[:,1]\n",
    "        test_preds = test_preds.reshape(len(test_preds))  # shouldn't have to do this.\n",
    "        preds[:,cur_fold-1] = test_preds  \n",
    "        cur_fold +=1\n",
    "    \n",
    "    # Print mean fold and oof score \n",
    "    oof_score = roc_auc_score(y,oof)\n",
    "    # oof_score = np.sqrt(mean_squared_error(y,oof))\n",
    "    print(f'ROC AUC score: {np.mean(fold_scores):.5f}, Stdev: {np.std(fold_scores):.5f}, OOF score: {oof_score:.5f}')\n",
    "    # print(f'RMSE score: {np.mean(scores):.5f}, Stdev: {np.std(scores):.5f}, OOF score: {oof_score:.5f}')\n",
    "\n",
    "    return (preds,fold_scores,oof_score,oof)"
   ]
  },
  {
   "cell_type": "markdown",
   "id": "7371e30d",
   "metadata": {
    "papermill": {
     "duration": 0.023427,
     "end_time": "2023-06-25T18:10:35.207370",
     "exception": false,
     "start_time": "2023-06-25T18:10:35.183943",
     "status": "completed"
    },
    "tags": []
   },
   "source": [
    "### Model 1: Logistic Regression"
   ]
  },
  {
   "cell_type": "code",
   "execution_count": 29,
   "id": "ca488fbe",
   "metadata": {
    "execution": {
     "iopub.execute_input": "2023-06-25T18:10:35.257317Z",
     "iopub.status.busy": "2023-06-25T18:10:35.256944Z",
     "iopub.status.idle": "2023-06-25T18:11:03.341891Z",
     "shell.execute_reply": "2023-06-25T18:11:03.340436Z"
    },
    "papermill": {
     "duration": 28.114139,
     "end_time": "2023-06-25T18:11:03.345781",
     "exception": false,
     "start_time": "2023-06-25T18:10:35.231642",
     "status": "completed"
    },
    "tags": []
   },
   "outputs": [
    {
     "name": "stdout",
     "output_type": "stream",
     "text": [
      "ROC AUC score: 0.93543, Stdev: 0.01993, OOF score: 0.93550\n"
     ]
    }
   ],
   "source": [
    "from sklearn.linear_model import LogisticRegression\n",
    "model_lr = LogisticRegression(random_state = seed,\n",
    "                                   solver = 'liblinear',\n",
    "                                   penalty='l2',\n",
    "                                   multi_class = 'auto', \n",
    "                                   max_iter=100)\n",
    "\n",
    "preds_lr,scores_lr,oof_score_lr,oof_lr = run_cv_and_predict(train,test,features,model_lr,seed)\n",
    "\n",
    "\n",
    "# model_lrg.fit(x_train, y_train)\n",
    "# preds_lrg = model_lrg.predict_proba(x_valid)[:,1]  # or just predict\n",
    "# score_lrg = roc_auc_score(y_valid,preds_lrg)\n",
    "# print(f'ROC AUC Score, i = {0}: {score_lrg}')\n",
    "\n",
    "# test_preds = model_lrg.predict_proba(x_test)[:,1]\n",
    "# default: .88269\n",
    "# initial params, .92034, lb = .94621\n",
    "# 10 fold stratified kfold: .93581, lb = .94726\n",
    "# no bool, only sum: ROC AUC score: 0.93624, Stdev: 0.01002, OOF score: 0.93627 (better)\n"
   ]
  },
  {
   "cell_type": "markdown",
   "id": "948e8398",
   "metadata": {
    "papermill": {
     "duration": 0.02325,
     "end_time": "2023-06-25T18:11:03.410886",
     "exception": false,
     "start_time": "2023-06-25T18:11:03.387636",
     "status": "completed"
    },
    "tags": []
   },
   "source": [
    "### Model 2: KNN"
   ]
  },
  {
   "cell_type": "code",
   "execution_count": 30,
   "id": "a26d309d",
   "metadata": {
    "execution": {
     "iopub.execute_input": "2023-06-25T18:11:03.459923Z",
     "iopub.status.busy": "2023-06-25T18:11:03.459532Z",
     "iopub.status.idle": "2023-06-25T18:11:03.464341Z",
     "shell.execute_reply": "2023-06-25T18:11:03.463193Z"
    },
    "papermill": {
     "duration": 0.032335,
     "end_time": "2023-06-25T18:11:03.467034",
     "exception": false,
     "start_time": "2023-06-25T18:11:03.434699",
     "status": "completed"
    },
    "tags": []
   },
   "outputs": [],
   "source": [
    "# from sklearn.neighbors import KNeighborsClassifier\n",
    "\n",
    "# # need to add (probability=True) if want to use proba\n",
    "# model_knn = KNeighborsClassifier()#n_neighbors=9, leaf_size=20)\n",
    "\n",
    "# preds_knn,scores_knn,oof_score_knn,oof_knn = run_cv_and_predict(train,test,features,model_knn,seed)\n",
    "\n",
    "# initial cv = .72754"
   ]
  },
  {
   "cell_type": "markdown",
   "id": "615a0ec3",
   "metadata": {
    "papermill": {
     "duration": 0.023267,
     "end_time": "2023-06-25T18:11:03.514200",
     "exception": false,
     "start_time": "2023-06-25T18:11:03.490933",
     "status": "completed"
    },
    "tags": []
   },
   "source": [
    "### Model 3: Random Forest"
   ]
  },
  {
   "cell_type": "code",
   "execution_count": 31,
   "id": "41d80f42",
   "metadata": {
    "execution": {
     "iopub.execute_input": "2023-06-25T18:11:03.564059Z",
     "iopub.status.busy": "2023-06-25T18:11:03.563677Z",
     "iopub.status.idle": "2023-06-25T18:11:03.568168Z",
     "shell.execute_reply": "2023-06-25T18:11:03.567284Z"
    },
    "papermill": {
     "duration": 0.032235,
     "end_time": "2023-06-25T18:11:03.570465",
     "exception": false,
     "start_time": "2023-06-25T18:11:03.538230",
     "status": "completed"
    },
    "tags": []
   },
   "outputs": [],
   "source": [
    "# %%time\n",
    "# from sklearn.ensemble import RandomForestClassifier\n",
    "\n",
    "# model_rf = RandomForestClassifier(class_weight='balanced')\n",
    "\n",
    "# preds_rf,scores_rf,oof_score_rf,oof_rf = run_cv_and_predict(train,test,features,model_rf,seed)\n",
    "\n",
    "\n",
    "# rf default initial, cv = .94384, lb = .95816\n",
    "# adding 'class_weight = balanced', cv = .95366, lb = .95997"
   ]
  },
  {
   "cell_type": "markdown",
   "id": "52cf5aed",
   "metadata": {
    "papermill": {
     "duration": 0.023303,
     "end_time": "2023-06-25T18:11:03.617410",
     "exception": false,
     "start_time": "2023-06-25T18:11:03.594107",
     "status": "completed"
    },
    "tags": []
   },
   "source": [
    "## Model 4: SVM\n",
    "\n",
    "* Super slow, aborted twice"
   ]
  },
  {
   "cell_type": "code",
   "execution_count": 32,
   "id": "2bbc9970",
   "metadata": {
    "execution": {
     "iopub.execute_input": "2023-06-25T18:11:03.666421Z",
     "iopub.status.busy": "2023-06-25T18:11:03.666025Z",
     "iopub.status.idle": "2023-06-25T18:11:03.670716Z",
     "shell.execute_reply": "2023-06-25T18:11:03.669549Z"
    },
    "papermill": {
     "duration": 0.031885,
     "end_time": "2023-06-25T18:11:03.673039",
     "exception": false,
     "start_time": "2023-06-25T18:11:03.641154",
     "status": "completed"
    },
    "tags": []
   },
   "outputs": [],
   "source": [
    "# %%time\n",
    "# from sklearn.svm import SVC\n",
    "\n",
    "# model_svm = SVC(class_weight='balanced',probability=True)\n",
    "\n",
    "# preds_svm,scores_svm,oof_score_svm,oof_svm = run_cv_and_predict(train,test,features,model_svm,seed)\n"
   ]
  },
  {
   "cell_type": "markdown",
   "id": "5e5ec206",
   "metadata": {
    "papermill": {
     "duration": 0.023265,
     "end_time": "2023-06-25T18:11:03.719740",
     "exception": false,
     "start_time": "2023-06-25T18:11:03.696475",
     "status": "completed"
    },
    "tags": []
   },
   "source": [
    "## Model 5: Catboost"
   ]
  },
  {
   "cell_type": "code",
   "execution_count": 33,
   "id": "732b5511",
   "metadata": {
    "execution": {
     "iopub.execute_input": "2023-06-25T18:11:03.770963Z",
     "iopub.status.busy": "2023-06-25T18:11:03.770097Z",
     "iopub.status.idle": "2023-06-25T18:11:03.777098Z",
     "shell.execute_reply": "2023-06-25T18:11:03.776144Z"
    },
    "papermill": {
     "duration": 0.03568,
     "end_time": "2023-06-25T18:11:03.779391",
     "exception": false,
     "start_time": "2023-06-25T18:11:03.743711",
     "status": "completed"
    },
    "tags": []
   },
   "outputs": [
    {
     "data": {
      "text/plain": [
       "63.548614372945046"
      ]
     },
     "execution_count": 33,
     "metadata": {},
     "output_type": "execute_result"
    }
   ],
   "source": [
    "weights_ratio"
   ]
  },
  {
   "cell_type": "code",
   "execution_count": 34,
   "id": "119d1a6b",
   "metadata": {
    "execution": {
     "iopub.execute_input": "2023-06-25T18:11:03.830721Z",
     "iopub.status.busy": "2023-06-25T18:11:03.829869Z",
     "iopub.status.idle": "2023-06-25T18:17:54.359204Z",
     "shell.execute_reply": "2023-06-25T18:17:54.358044Z"
    },
    "papermill": {
     "duration": 410.581156,
     "end_time": "2023-06-25T18:17:54.385469",
     "exception": false,
     "start_time": "2023-06-25T18:11:03.804313",
     "status": "completed"
    },
    "tags": []
   },
   "outputs": [
    {
     "name": "stdout",
     "output_type": "stream",
     "text": [
      "ROC AUC score: 0.95561, Stdev: 0.01893, OOF score: 0.95543\n"
     ]
    }
   ],
   "source": [
    "from catboost import CatBoostClassifier\n",
    "\n",
    "model_cat = CatBoostClassifier(verbose=False,random_state=seed,scale_pos_weight=weights_ratio) # ,task_type='GPU')\n",
    "\n",
    "preds_cat,scores_cat,oof_score_cat,oof_cat = run_cv_and_predict(train,test,features,model_cat,seed)\n",
    "\n",
    "# default: ROC AUC score: 0.96057, Stdev: 0.00954, OOF score: 0.96037, lb = .96389\n",
    "# same, but with scale_pos_weights, cv = .95549, lb = .96585\n",
    "# same, but 1/scale_pos_weights, cv = .95913, lb = .95928\n",
    "\n",
    "#.95549 w/o sum_bool, .95098 with :<\n",
    "# drop bools except for sum, scale_pos: ROC AUC score: 0.95362, Stdev: 0.00958, OOF score: 0.95347, lb = \n",
    "# no imbalance, ROC AUC score: 0.96086, Stdev: 0.00897, OOF score: 0.96063\n"
   ]
  },
  {
   "cell_type": "markdown",
   "id": "8a46c9d3",
   "metadata": {
    "papermill": {
     "duration": 0.023951,
     "end_time": "2023-06-25T18:17:54.433216",
     "exception": false,
     "start_time": "2023-06-25T18:17:54.409265",
     "status": "completed"
    },
    "tags": []
   },
   "source": [
    "## Model 6 XGB\n",
    "\n",
    "* Need to remove [] from feat names"
   ]
  },
  {
   "cell_type": "code",
   "execution_count": 35,
   "id": "0d92e570",
   "metadata": {
    "execution": {
     "iopub.execute_input": "2023-06-25T18:17:54.483512Z",
     "iopub.status.busy": "2023-06-25T18:17:54.482352Z",
     "iopub.status.idle": "2023-06-25T18:19:52.866548Z",
     "shell.execute_reply": "2023-06-25T18:19:52.865633Z"
    },
    "papermill": {
     "duration": 118.436324,
     "end_time": "2023-06-25T18:19:52.893391",
     "exception": false,
     "start_time": "2023-06-25T18:17:54.457067",
     "status": "completed"
    },
    "tags": []
   },
   "outputs": [
    {
     "name": "stdout",
     "output_type": "stream",
     "text": [
      "ROC AUC score: 0.96178, Stdev: 0.01879, OOF score: 0.96167\n"
     ]
    }
   ],
   "source": [
    "from xgboost import XGBClassifier\n",
    "\n",
    "model_xgb = XGBClassifier(random_state=seed)# max_depth= 8, n_estimators= 125, random_state= 0,  learning_rate= 0.03)\n",
    "\n",
    "preds_xgb,scores_xgb,oof_score_xgb,oof_xgb = run_cv_and_predict(train,test,features,model_xgb,seed)\n",
    "\n",
    "# default not balanced, ROC AUC score: 0.96159, Stdev: 0.00810, OOF score: 0.96136, lb = .96648\n",
    "# defautl balanced, ROC AUC score: 0.95471, Stdev: 0.00729, OOF score: 0.95464, \n",
    "# add sum_bool,  .95369 without :<\n",
    "# not balanced, with sum_bool: .96032 :<\n",
    "# drop bools except for sum, no scale_pos, ROC AUC score: 0.96094, Stdev: 0.00717, OOF score: 0.96077\n",
    "\n",
    "\n",
    "# back to default, not balanced for blend, .96159, lb = .96648 (best so far)\n",
    "\n",
    "# 20 folds: .96178"
   ]
  },
  {
   "cell_type": "markdown",
   "id": "dc87d139",
   "metadata": {
    "papermill": {
     "duration": 0.02416,
     "end_time": "2023-06-25T18:19:52.941546",
     "exception": false,
     "start_time": "2023-06-25T18:19:52.917386",
     "status": "completed"
    },
    "tags": []
   },
   "source": [
    "## Model 7: LightGBM\n"
   ]
  },
  {
   "cell_type": "code",
   "execution_count": 36,
   "id": "db7327fc",
   "metadata": {
    "execution": {
     "iopub.execute_input": "2023-06-25T18:19:52.992221Z",
     "iopub.status.busy": "2023-06-25T18:19:52.991226Z",
     "iopub.status.idle": "2023-06-25T18:20:22.839055Z",
     "shell.execute_reply": "2023-06-25T18:20:22.837417Z"
    },
    "papermill": {
     "duration": 29.875963,
     "end_time": "2023-06-25T18:20:22.841870",
     "exception": false,
     "start_time": "2023-06-25T18:19:52.965907",
     "status": "completed"
    },
    "tags": []
   },
   "outputs": [
    {
     "name": "stdout",
     "output_type": "stream",
     "text": [
      "ROC AUC score: 0.96101, Stdev: 0.01658, OOF score: 0.96053\n"
     ]
    }
   ],
   "source": [
    "from lightgbm import LGBMClassifier\n",
    "\n",
    "model_lgbm = LGBMClassifier(random_state=seed)#,is_unbalance=True)\n",
    "\n",
    "preds_lgbm,scores_lgbm,oof_score_lgbm,oof_lgbm = run_cv_and_predict(train,test,features,model_lgbm,seed)\n",
    "\n",
    "# default, not balanced, ROC AUC score: 0.96361, Stdev: 0.00706, OOF score: 0.96326, lb = .96468\n",
    "# default, is_unbalance = true,  ROC AUC score: 0.95734, Stdev: 0.01188, OOF score: 0.95699, lb = .96235\n",
    "# add sum_bool: .95400 :<\n",
    "# drop bools except for sum, imabalance,  ROC AUC score: 0.95562, Stdev: 0.00933, OOF score: 0.95528\n",
    "# no scale_pos: ROC AUC score: 0.96262, Stdev: 0.00759, OOF score: 0.96188\n",
    "# back to line 1 for ensemble\n",
    "# 20 folds: .96101"
   ]
  },
  {
   "cell_type": "markdown",
   "id": "610b508c",
   "metadata": {
    "papermill": {
     "duration": 0.025278,
     "end_time": "2023-06-25T18:20:22.892373",
     "exception": false,
     "start_time": "2023-06-25T18:20:22.867095",
     "status": "completed"
    },
    "tags": []
   },
   "source": [
    "## Model 8: Gaussian Naive Bayes"
   ]
  },
  {
   "cell_type": "code",
   "execution_count": 37,
   "id": "17bd0c67",
   "metadata": {
    "execution": {
     "iopub.execute_input": "2023-06-25T18:20:22.943120Z",
     "iopub.status.busy": "2023-06-25T18:20:22.942715Z",
     "iopub.status.idle": "2023-06-25T18:20:24.738553Z",
     "shell.execute_reply": "2023-06-25T18:20:24.737213Z"
    },
    "papermill": {
     "duration": 1.824242,
     "end_time": "2023-06-25T18:20:24.741259",
     "exception": false,
     "start_time": "2023-06-25T18:20:22.917017",
     "status": "completed"
    },
    "tags": []
   },
   "outputs": [
    {
     "name": "stdout",
     "output_type": "stream",
     "text": [
      "ROC AUC score: 0.94443, Stdev: 0.01823, OOF score: 0.94459\n"
     ]
    }
   ],
   "source": [
    "from sklearn.naive_bayes import GaussianNB\n",
    "\n",
    "#transformed = pd.DataFrame(QuantileTransformer(output_distribution='normal').fit_transform(train_code))\n",
    "# pipeline = make_pipeline(QuantileTransformer(output_distribution='normal'), GaussianNB())\n",
    "# pipeline.fit(train_code, target)\n",
    "\n",
    "model_gnb = GaussianNB()\n",
    "preds_gnb,scores_gnb,oof_score_gnb,oof_gnb = run_cv_and_predict(train,test,features,model_gnb,seed)"
   ]
  },
  {
   "cell_type": "code",
   "execution_count": 38,
   "id": "674cf8a8",
   "metadata": {
    "execution": {
     "iopub.execute_input": "2023-06-25T18:20:24.792444Z",
     "iopub.status.busy": "2023-06-25T18:20:24.792058Z",
     "iopub.status.idle": "2023-06-25T18:20:24.797287Z",
     "shell.execute_reply": "2023-06-25T18:20:24.795984Z"
    },
    "papermill": {
     "duration": 0.033469,
     "end_time": "2023-06-25T18:20:24.799815",
     "exception": false,
     "start_time": "2023-06-25T18:20:24.766346",
     "status": "completed"
    },
    "tags": []
   },
   "outputs": [],
   "source": [
    "# from tabpfn.scripts.decision_boundary import DecisionBoundaryDisplay\n",
    "# from tabpfn import TabPFNClassifier\n",
    "\n",
    "# model_tab = TabPFNClassifier()#device='cuda', N_ensemble_configurations=4)\n",
    "\n",
    "# preds0_tab,preds1_tab, scores_tab,oof_score_tab,oof_tab = run_cv_and_predict(train,test,features,model_tab,seed)"
   ]
  },
  {
   "cell_type": "markdown",
   "id": "74fa2876",
   "metadata": {
    "papermill": {
     "duration": 0.024072,
     "end_time": "2023-06-25T18:20:24.848852",
     "exception": false,
     "start_time": "2023-06-25T18:20:24.824780",
     "status": "completed"
    },
    "tags": []
   },
   "source": [
    "## Three model blend"
   ]
  },
  {
   "cell_type": "code",
   "execution_count": 39,
   "id": "fcb25747",
   "metadata": {
    "execution": {
     "iopub.execute_input": "2023-06-25T18:20:24.900389Z",
     "iopub.status.busy": "2023-06-25T18:20:24.899339Z",
     "iopub.status.idle": "2023-06-25T18:20:24.906030Z",
     "shell.execute_reply": "2023-06-25T18:20:24.904845Z"
    },
    "papermill": {
     "duration": 0.035257,
     "end_time": "2023-06-25T18:20:24.908750",
     "exception": false,
     "start_time": "2023-06-25T18:20:24.873493",
     "status": "completed"
    },
    "tags": []
   },
   "outputs": [],
   "source": [
    "# import random\n",
    "\n",
    "# model1 = oof_lr\n",
    "# preds_1 = preds_lr\n",
    "\n",
    "# model2 = oof_rf\n",
    "# preds_2 = preds_rf\n",
    "\n",
    "# model3 = oof_lgbm\n",
    "# preds_3 = preds_lgbm\n",
    "\n",
    "# m = []\n",
    "# for i in range(100):\n",
    "#     # Generate 3 random numbers\n",
    "#     a,b,c = random.random(),random.random(),random.random()\n",
    "#     # Scale the numbers so that they sum to 1\n",
    "#     total = a + b + c\n",
    "#     a /= total\n",
    "#     b /= total\n",
    "#     c /= total\n",
    "    \n",
    "#     tm_ens = a*model1 + b*model2 + c*model3\n",
    "#     tm_score = roc_auc_score(y,tm_ens)\n",
    "#     m.append([a,b,c,tm_score])\n",
    "    \n",
    "# three_model = pd.DataFrame(m,columns=['a','b','c','score'])\n",
    "# three_model.head()\n",
    "\n",
    "# #max score\n",
    "# max_row = three_model[three_model.score == three_model.score.max()]\n",
    "# print(max_row)\n",
    "# ratio1 = max_row.a.values[0]\n",
    "# ratio2 = max_row.b.values[0]\n",
    "# ratio3 = max_row.c.values[0]\n",
    "\n",
    "# preds_ens = ratio1*preds_1.mean(axis=1) + ratio2*preds_2.mean(axis=1) + ratio3*preds_3.mean(axis=1)\n",
    "\n",
    "#cat +  xgb + lgbm, no scale_pos: oof=.965154, lb=.96565\n",
    "#cat +  xgb + lgbm, cat scale_pos, oof=.964622, lb = .96613 (just lower than cat alone )\n",
    "# rf + xgb + lgbm, \n",
    "# lr + xgb + lgbm, oof=.964566, lb = .96526\n"
   ]
  },
  {
   "cell_type": "markdown",
   "id": "e0c542c8",
   "metadata": {
    "papermill": {
     "duration": 0.023961,
     "end_time": "2023-06-25T18:20:24.957142",
     "exception": false,
     "start_time": "2023-06-25T18:20:24.933181",
     "status": "completed"
    },
    "tags": []
   },
   "source": [
    "## Five model"
   ]
  },
  {
   "cell_type": "code",
   "execution_count": 40,
   "id": "51aa1e7a",
   "metadata": {
    "execution": {
     "iopub.execute_input": "2023-06-25T18:20:25.007498Z",
     "iopub.status.busy": "2023-06-25T18:20:25.006868Z",
     "iopub.status.idle": "2023-06-25T18:20:29.050227Z",
     "shell.execute_reply": "2023-06-25T18:20:29.049024Z"
    },
    "papermill": {
     "duration": 4.071589,
     "end_time": "2023-06-25T18:20:29.052770",
     "exception": false,
     "start_time": "2023-06-25T18:20:24.981181",
     "status": "completed"
    },
    "tags": []
   },
   "outputs": [
    {
     "name": "stdout",
     "output_type": "stream",
     "text": [
      "           a         b         c         d         e    score\n",
      "68  0.236044  0.276984  0.165207  0.313589  0.008175  0.96333\n"
     ]
    }
   ],
   "source": [
    "import random \n",
    "\n",
    "model1 = oof_xgb\n",
    "preds_1 = preds_xgb\n",
    "\n",
    "model2 = oof_xgb\n",
    "preds_2 = preds_xgb\n",
    "\n",
    "model3 = oof_xgb\n",
    "preds_3 = preds_xgb\n",
    "\n",
    "model4 = oof_lgbm\n",
    "preds_4 = preds_lgbm\n",
    "\n",
    "model5 = oof_cat\n",
    "preds_5 = preds_cat\n",
    "\n",
    "m = []\n",
    "for i in range(100):\n",
    "    # Generate 3 random numbers\n",
    "    a,b,c,d,e = random.random(),random.random(),random.random(),random.random(),random.random()\n",
    "    # Scale the numbers so that they sum to 1\n",
    "    total = a + b + c + d + e\n",
    "    a /= total\n",
    "    b /= total\n",
    "    c /= total\n",
    "    d /= total\n",
    "    e /= total\n",
    "    \n",
    "    tm_ens = a*model1 + b*model2 + c*model3 + d*model4 + e*model5\n",
    "    tm_score = roc_auc_score(y,tm_ens)\n",
    "    m.append([a,b,c,d,e,tm_score])\n",
    "    \n",
    "five_model = pd.DataFrame(m,columns=['a','b','c','d','e','score'])\n",
    "five_model.head()\n",
    "\n",
    "#max score\n",
    "max_row = five_model[five_model.score == five_model.score.max()]\n",
    "print(max_row)\n",
    "ratio1 = max_row.a.values[0]\n",
    "ratio2 = max_row.b.values[0]\n",
    "ratio3 = max_row.c.values[0]\n",
    "ratio4 = max_row.d.values[0]\n",
    "ratio5 = max_row.e.values[0]\n",
    "\n",
    "preds_ens = ratio1*preds_1.mean(axis=1) + ratio2*preds_2.mean(axis=1) + ratio3*preds_3.mean(axis=1) + ratio4*preds_4.mean(axis=1) + ratio5*preds_5.mean(axis=1)\n"
   ]
  },
  {
   "cell_type": "markdown",
   "id": "388f216e",
   "metadata": {
    "papermill": {
     "duration": 0.023876,
     "end_time": "2023-06-25T18:20:29.100948",
     "exception": false,
     "start_time": "2023-06-25T18:20:29.077072",
     "status": "completed"
    },
    "tags": []
   },
   "source": [
    "## Submission"
   ]
  },
  {
   "cell_type": "code",
   "execution_count": 41,
   "id": "63644142",
   "metadata": {
    "execution": {
     "iopub.execute_input": "2023-06-25T18:20:29.151607Z",
     "iopub.status.busy": "2023-06-25T18:20:29.151112Z",
     "iopub.status.idle": "2023-06-25T18:20:29.162660Z",
     "shell.execute_reply": "2023-06-25T18:20:29.161514Z"
    },
    "papermill": {
     "duration": 0.039361,
     "end_time": "2023-06-25T18:20:29.164922",
     "exception": false,
     "start_time": "2023-06-25T18:20:29.125561",
     "status": "completed"
    },
    "tags": []
   },
   "outputs": [
    {
     "data": {
      "text/html": [
       "<div>\n",
       "<style scoped>\n",
       "    .dataframe tbody tr th:only-of-type {\n",
       "        vertical-align: middle;\n",
       "    }\n",
       "\n",
       "    .dataframe tbody tr th {\n",
       "        vertical-align: top;\n",
       "    }\n",
       "\n",
       "    .dataframe thead th {\n",
       "        text-align: right;\n",
       "    }\n",
       "</style>\n",
       "<table border=\"1\" class=\"dataframe\">\n",
       "  <thead>\n",
       "    <tr style=\"text-align: right;\">\n",
       "      <th></th>\n",
       "      <th>id</th>\n",
       "      <th>Machine failure</th>\n",
       "    </tr>\n",
       "  </thead>\n",
       "  <tbody>\n",
       "    <tr>\n",
       "      <th>0</th>\n",
       "      <td>136429</td>\n",
       "      <td>0.000880</td>\n",
       "    </tr>\n",
       "    <tr>\n",
       "      <th>1</th>\n",
       "      <td>136430</td>\n",
       "      <td>0.007107</td>\n",
       "    </tr>\n",
       "    <tr>\n",
       "      <th>2</th>\n",
       "      <td>136431</td>\n",
       "      <td>0.000278</td>\n",
       "    </tr>\n",
       "    <tr>\n",
       "      <th>3</th>\n",
       "      <td>136432</td>\n",
       "      <td>0.000782</td>\n",
       "    </tr>\n",
       "    <tr>\n",
       "      <th>4</th>\n",
       "      <td>136433</td>\n",
       "      <td>0.001918</td>\n",
       "    </tr>\n",
       "  </tbody>\n",
       "</table>\n",
       "</div>"
      ],
      "text/plain": [
       "       id  Machine failure\n",
       "0  136429         0.000880\n",
       "1  136430         0.007107\n",
       "2  136431         0.000278\n",
       "3  136432         0.000782\n",
       "4  136433         0.001918"
      ]
     },
     "execution_count": 41,
     "metadata": {},
     "output_type": "execute_result"
    }
   ],
   "source": [
    "#final_preds = preds_lgbm.mean(axis=1)\n",
    "final_preds = preds_ens\n",
    "ss['Machine failure'] = final_preds\n",
    "ss.head()\n"
   ]
  },
  {
   "cell_type": "code",
   "execution_count": 42,
   "id": "f913d048",
   "metadata": {
    "execution": {
     "iopub.execute_input": "2023-06-25T18:20:29.215504Z",
     "iopub.status.busy": "2023-06-25T18:20:29.215083Z",
     "iopub.status.idle": "2023-06-25T18:20:30.065665Z",
     "shell.execute_reply": "2023-06-25T18:20:30.064789Z"
    },
    "papermill": {
     "duration": 0.878665,
     "end_time": "2023-06-25T18:20:30.067948",
     "exception": false,
     "start_time": "2023-06-25T18:20:29.189283",
     "status": "completed"
    },
    "tags": []
   },
   "outputs": [
    {
     "data": {
      "image/png": "[encoded data removed]",
      "text/plain": [
       "<Figure size 640x480 with 1 Axes>"
      ]
     },
     "metadata": {},
     "output_type": "display_data"
    }
   ],
   "source": [
    "ss.to_csv('submission.csv',index=False)\n",
    "plt.hist(final_preds,bins=50);"
   ]
  },
  {
   "cell_type": "code",
   "execution_count": 43,
   "id": "0300a3bc",
   "metadata": {
    "execution": {
     "iopub.execute_input": "2023-06-25T18:20:30.121381Z",
     "iopub.status.busy": "2023-06-25T18:20:30.120734Z",
     "iopub.status.idle": "2023-06-25T18:20:30.124800Z",
     "shell.execute_reply": "2023-06-25T18:20:30.123888Z"
    },
    "papermill": {
     "duration": 0.033312,
     "end_time": "2023-06-25T18:20:30.127128",
     "exception": false,
     "start_time": "2023-06-25T18:20:30.093816",
     "status": "completed"
    },
    "tags": []
   },
   "outputs": [],
   "source": [
    "#ss['Machine failure'].value_counts()"
   ]
  },
  {
   "cell_type": "code",
   "execution_count": null,
   "id": "865b6903",
   "metadata": {
    "papermill": {
     "duration": 0.024455,
     "end_time": "2023-06-25T18:20:30.176445",
     "exception": false,
     "start_time": "2023-06-25T18:20:30.151990",
     "status": "completed"
    },
    "tags": []
   },
   "outputs": [],
   "source": []
  },
  {
   "cell_type": "code",
   "execution_count": null,
   "id": "3fcdd6fb",
   "metadata": {
    "papermill": {
     "duration": 0.02467,
     "end_time": "2023-06-25T18:20:30.226061",
     "exception": false,
     "start_time": "2023-06-25T18:20:30.201391",
     "status": "completed"
    },
    "tags": []
   },
   "outputs": [],
   "source": []
  }
 ],
 "metadata": {
  "kernelspec": {
   "display_name": "Python 3",
   "language": "python",
   "name": "python3"
  },
  "language_info": {
   "codemirror_mode": {
    "name": "ipython",
    "version": 3
   },
   "file_extension": ".py",
   "mimetype": "text/x-python",
   "name": "python",
   "nbconvert_exporter": "python",
   "pygments_lexer": "ipython3",
   "version": "3.10.10"
  },
  "papermill": {
   "default_parameters": {},
   "duration": 622.094235,
   "end_time": "2023-06-25T18:20:31.576051",
   "environment_variables": {},
   "exception": null,
   "input_path": "__notebook__.ipynb",
   "output_path": "__notebook__.ipynb",
   "parameters": {},
   "start_time": "2023-06-25T18:10:09.481816",
   "version": "2.4.0"
  }
 },
 "nbformat": 4,
 "nbformat_minor": 5
}
